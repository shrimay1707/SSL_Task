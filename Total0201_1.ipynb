{
  "cells": [
    {
      "cell_type": "code",
      "execution_count": null,
      "metadata": {
        "id": "Ht-id979rglZ"
      },
      "outputs": [],
      "source": [
        "#Importing most necessary libraries here\n",
        "\n",
        "import torch\n",
        "import torch.nn as nn\n",
        "import torch.optim as optim\n",
        "from torch.utils.data import DataLoader\n",
        "# from efficientnet_pytorch import EfficientNet\n",
        "from torchvision import transforms, datasets\n",
        "from torch.utils.data import random_split\n",
        "import torch.nn.functional as F\n",
        "import torchvision\n",
        "import torchvision.transforms as transforms\n",
        "import random"
      ]
    },
    {
      "cell_type": "markdown",
      "metadata": {
        "id": "52ZilcEnrglc"
      },
      "source": [
        "Defining Transforms"
      ]
    },
    {
      "cell_type": "code",
      "execution_count": null,
      "metadata": {
        "colab": {
          "base_uri": "https://localhost:8080/"
        },
        "id": "aGsc7Noyrgle",
        "outputId": "d968b6b5-3394-436e-bc66-b5a26f65f6fc"
      },
      "outputs": [
        {
          "output_type": "stream",
          "name": "stdout",
          "text": [
            "Files already downloaded and verified\n"
          ]
        }
      ],
      "source": [
        "transform = transforms.Compose([\n",
        "    transforms.Resize((32, 32)),\n",
        "    transforms.ToTensor(),\n",
        "    transforms.Normalize((0.5, 0.5, 0.5), (0.5, 0.5, 0.5))\n",
        "])\n",
        "\n",
        "batch_size = 4\n",
        "\n",
        "trainset = torchvision.datasets.CIFAR10(root='./data', train=True,\n",
        "                                        download=True, transform=transform)\n",
        "trainloader = torch.utils.data.DataLoader(trainset, batch_size=batch_size,\n",
        "                                          shuffle=True, num_workers=2)"
      ]
    },
    {
      "cell_type": "code",
      "execution_count": null,
      "metadata": {
        "colab": {
          "base_uri": "https://localhost:8080/"
        },
        "id": "KzV68emHrgle",
        "outputId": "a8fe37ae-edde-4879-8a53-4c760b36d797"
      },
      "outputs": [
        {
          "output_type": "stream",
          "name": "stdout",
          "text": [
            "Files already downloaded and verified\n"
          ]
        }
      ],
      "source": [
        "testset = torchvision.datasets.CIFAR10(root='./data', train=False,\n",
        "                                       download=True, transform=transform)\n",
        "testloader = torch.utils.data.DataLoader(testset, batch_size=batch_size,\n",
        "                                         shuffle=False, num_workers=2)\n",
        "\n",
        "classes = ('plane', 'car', 'bird', 'cat',\n",
        "           'deer', 'dog', 'frog', 'horse', 'ship', 'truck')"
      ]
    },
    {
      "cell_type": "code",
      "execution_count": null,
      "metadata": {
        "colab": {
          "base_uri": "https://localhost:8080/"
        },
        "id": "dRuMfpwQv3Qu",
        "outputId": "d042440c-93f4-4e31-cc57-009b3d2c272b"
      },
      "outputs": [
        {
          "output_type": "stream",
          "name": "stdout",
          "text": [
            "Requirement already satisfied: torch in /usr/local/lib/python3.10/dist-packages (2.1.0+cu121)\n",
            "Requirement already satisfied: torchvision in /usr/local/lib/python3.10/dist-packages (0.16.0+cu121)\n",
            "Requirement already satisfied: timm in /usr/local/lib/python3.10/dist-packages (0.9.12)\n",
            "Requirement already satisfied: filelock in /usr/local/lib/python3.10/dist-packages (from torch) (3.13.1)\n",
            "Requirement already satisfied: typing-extensions in /usr/local/lib/python3.10/dist-packages (from torch) (4.5.0)\n",
            "Requirement already satisfied: sympy in /usr/local/lib/python3.10/dist-packages (from torch) (1.12)\n",
            "Requirement already satisfied: networkx in /usr/local/lib/python3.10/dist-packages (from torch) (3.2.1)\n",
            "Requirement already satisfied: jinja2 in /usr/local/lib/python3.10/dist-packages (from torch) (3.1.2)\n",
            "Requirement already satisfied: fsspec in /usr/local/lib/python3.10/dist-packages (from torch) (2023.6.0)\n",
            "Requirement already satisfied: triton==2.1.0 in /usr/local/lib/python3.10/dist-packages (from torch) (2.1.0)\n",
            "Requirement already satisfied: numpy in /usr/local/lib/python3.10/dist-packages (from torchvision) (1.23.5)\n",
            "Requirement already satisfied: requests in /usr/local/lib/python3.10/dist-packages (from torchvision) (2.31.0)\n",
            "Requirement already satisfied: pillow!=8.3.*,>=5.3.0 in /usr/local/lib/python3.10/dist-packages (from torchvision) (9.4.0)\n",
            "Requirement already satisfied: pyyaml in /usr/local/lib/python3.10/dist-packages (from timm) (6.0.1)\n",
            "Requirement already satisfied: huggingface-hub in /usr/local/lib/python3.10/dist-packages (from timm) (0.19.4)\n",
            "Requirement already satisfied: safetensors in /usr/local/lib/python3.10/dist-packages (from timm) (0.4.1)\n",
            "Requirement already satisfied: tqdm>=4.42.1 in /usr/local/lib/python3.10/dist-packages (from huggingface-hub->timm) (4.66.1)\n",
            "Requirement already satisfied: packaging>=20.9 in /usr/local/lib/python3.10/dist-packages (from huggingface-hub->timm) (23.2)\n",
            "Requirement already satisfied: MarkupSafe>=2.0 in /usr/local/lib/python3.10/dist-packages (from jinja2->torch) (2.1.3)\n",
            "Requirement already satisfied: charset-normalizer<4,>=2 in /usr/local/lib/python3.10/dist-packages (from requests->torchvision) (3.3.2)\n",
            "Requirement already satisfied: idna<4,>=2.5 in /usr/local/lib/python3.10/dist-packages (from requests->torchvision) (3.6)\n",
            "Requirement already satisfied: urllib3<3,>=1.21.1 in /usr/local/lib/python3.10/dist-packages (from requests->torchvision) (2.0.7)\n",
            "Requirement already satisfied: certifi>=2017.4.17 in /usr/local/lib/python3.10/dist-packages (from requests->torchvision) (2023.11.17)\n",
            "Requirement already satisfied: mpmath>=0.19 in /usr/local/lib/python3.10/dist-packages (from sympy->torch) (1.3.0)\n"
          ]
        }
      ],
      "source": [
        "!pip install torch torchvision timm\n",
        "from timm import create_model"
      ]
    },
    {
      "cell_type": "code",
      "execution_count": null,
      "metadata": {
        "colab": {
          "base_uri": "https://localhost:8080/"
        },
        "id": "uWuKa9mIrglg",
        "outputId": "b0cf5ea5-9f58-4154-d47e-079b89eac79c"
      },
      "outputs": [
        {
          "output_type": "stream",
          "name": "stdout",
          "text": [
            "Files already downloaded and verified\n"
          ]
        }
      ],
      "source": [
        "cifar_dataset = torchvision.datasets.CIFAR10(root='./data', train=True, download=True, transform=transform)\n",
        "total_size = len(cifar_dataset)\n",
        "pretrain_size = int(0.05 * total_size)\n",
        "finetune_size = int(0.45 * total_size)\n",
        "test_size = total_size - pretrain_size - finetune_size\n",
        "\n",
        "# Split dataset into 5% for pre-training, 45% for fine-tuning, and 50% for testing, as specified in the task.\n",
        "pretrain_dataset, remaining_dataset = random_split(cifar_dataset, [pretrain_size, total_size - pretrain_size])\n",
        "finetune_dataset, test_dataset = random_split(remaining_dataset, [finetune_size, test_size])\n"
      ]
    },
    {
      "cell_type": "markdown",
      "metadata": {
        "id": "ypEm_fP8ls07"
      },
      "source": [
        " To understand the effect  of supervised learning and pre-training, we need to compare the performance of the model at various stages.\n",
        "\n",
        " First of all, let us test the base capacity of our model. Let us see it's test accuracy without training it and see. This gives us an idea about the capability of the model in it's raw state and helps us compare with our results later. I have named this model \"**model_empty**\""
      ]
    },
    {
      "cell_type": "code",
      "execution_count": null,
      "metadata": {
        "id": "8IfgOgTjvbQN"
      },
      "outputs": [],
      "source": [
        "model_empty = create_model('efficientnet_b6', pretrained=False)"
      ]
    },
    {
      "cell_type": "code",
      "execution_count": null,
      "metadata": {
        "id": "uOmuaqAiwVpQ"
      },
      "outputs": [],
      "source": [
        "from sklearn.metrics import accuracy_score"
      ]
    },
    {
      "cell_type": "code",
      "execution_count": null,
      "metadata": {
        "id": "ohw1Ghmy9-4f"
      },
      "outputs": [],
      "source": [
        "batch_size = 128\n",
        "test_loader = DataLoader(test_dataset, batch_size=batch_size, shuffle=False)\n"
      ]
    },
    {
      "cell_type": "code",
      "execution_count": null,
      "metadata": {
        "id": "_eJ_xhaDvV8L"
      },
      "outputs": [],
      "source": [
        "predictions = []\n",
        "true_labels = []\n",
        "\n",
        "with torch.no_grad():\n",
        "    for inputs, labels in test_loader:\n",
        "        outputs = model_empty(inputs)\n",
        "        _, predicted = torch.max(outputs, 1)\n",
        "        predictions.extend(predicted.cpu().numpy())\n",
        "        true_labels.extend(labels.cpu().numpy())\n",
        "\n",
        "# Convert the lists to NumPy arrays\n"
      ]
    },
    {
      "cell_type": "code",
      "execution_count": null,
      "metadata": {
        "id": "WW1YEW8v0RRe"
      },
      "outputs": [],
      "source": [
        "import numpy as np\n",
        "predictions_np = np.array(predictions)\n",
        "true_labels_np = np.array(true_labels)\n",
        "\n",
        "# Calculate accuracy\n",
        "accuracy_untrained = accuracy_score(true_labels_np, predictions_np)"
      ]
    },
    {
      "cell_type": "code",
      "execution_count": null,
      "metadata": {
        "colab": {
          "base_uri": "https://localhost:8080/"
        },
        "id": "pgHt2txdwf9R",
        "outputId": "dc4f825c-7e6d-427d-de86-582a251c25d5"
      },
      "outputs": [
        {
          "output_type": "stream",
          "name": "stdout",
          "text": [
            "Test Accuracy for completely untrained model: 0.02800%\n"
          ]
        }
      ],
      "source": [
        "\n",
        "print(f'Test Accuracy for completely untrained model: {accuracy_untrained* 100:.5f}%')"
      ]
    },
    {
      "cell_type": "markdown",
      "source": [
        "On testing untrained model, we see an accuracy of 0.02%. This low accuracy is expected since the model hasn't been trained and has nt learned any weights. Moreover, since we have kept the pretrained parameter set to **False**, the model is initialised without any pre-trained weights."
      ],
      "metadata": {
        "id": "e2bNVU6hQjIi"
      }
    },
    {
      "cell_type": "code",
      "execution_count": null,
      "metadata": {
        "id": "b9b7fDZr2G4o"
      },
      "outputs": [],
      "source": [
        "from PIL import Image"
      ]
    },
    {
      "cell_type": "code",
      "execution_count": null,
      "metadata": {
        "colab": {
          "base_uri": "https://localhost:8080/"
        },
        "id": "bgNUJpR-2xIv",
        "outputId": "029e9f4b-9c4b-4536-ae60-b9e0c5e913fb"
      },
      "outputs": [
        {
          "output_type": "stream",
          "name": "stdout",
          "text": [
            "Requirement already satisfied: efficientnet_pytorch in /usr/local/lib/python3.10/dist-packages (0.7.1)\n",
            "Requirement already satisfied: torch in /usr/local/lib/python3.10/dist-packages (from efficientnet_pytorch) (2.1.0+cu121)\n",
            "Requirement already satisfied: filelock in /usr/local/lib/python3.10/dist-packages (from torch->efficientnet_pytorch) (3.13.1)\n",
            "Requirement already satisfied: typing-extensions in /usr/local/lib/python3.10/dist-packages (from torch->efficientnet_pytorch) (4.5.0)\n",
            "Requirement already satisfied: sympy in /usr/local/lib/python3.10/dist-packages (from torch->efficientnet_pytorch) (1.12)\n",
            "Requirement already satisfied: networkx in /usr/local/lib/python3.10/dist-packages (from torch->efficientnet_pytorch) (3.2.1)\n",
            "Requirement already satisfied: jinja2 in /usr/local/lib/python3.10/dist-packages (from torch->efficientnet_pytorch) (3.1.2)\n",
            "Requirement already satisfied: fsspec in /usr/local/lib/python3.10/dist-packages (from torch->efficientnet_pytorch) (2023.6.0)\n",
            "Requirement already satisfied: triton==2.1.0 in /usr/local/lib/python3.10/dist-packages (from torch->efficientnet_pytorch) (2.1.0)\n",
            "Requirement already satisfied: MarkupSafe>=2.0 in /usr/local/lib/python3.10/dist-packages (from jinja2->torch->efficientnet_pytorch) (2.1.3)\n",
            "Requirement already satisfied: mpmath>=0.19 in /usr/local/lib/python3.10/dist-packages (from sympy->torch->efficientnet_pytorch) (1.3.0)\n"
          ]
        }
      ],
      "source": [
        "!pip install efficientnet_pytorch"
      ]
    },
    {
      "cell_type": "markdown",
      "source": [
        "### Training and Testing, but no pre-training\n",
        "Here, we will Train our model on the 45%-finetune dataset, and test it on the remaining 50%. However, no pretraining will be done.\n",
        "\n",
        "EfficientNet model is being used."
      ],
      "metadata": {
        "id": "shk9IZCpVtLx"
      }
    },
    {
      "cell_type": "code",
      "execution_count": null,
      "metadata": {
        "id": "hwOFeOLx27mc"
      },
      "outputs": [],
      "source": [
        "\n",
        "pretrain_loader = torch.utils.data.DataLoader(pretrain_dataset, batch_size=batch_size, shuffle=True, num_workers=2)\n",
        "finetune_loader = torch.utils.data.DataLoader(finetune_dataset, batch_size=batch_size, shuffle=True, num_workers=2)\n",
        "test_loader = torch.utils.data.DataLoader(test_dataset, batch_size=batch_size, shuffle=False, num_workers=2)"
      ]
    },
    {
      "cell_type": "code",
      "execution_count": null,
      "metadata": {
        "colab": {
          "base_uri": "https://localhost:8080/"
        },
        "id": "trtbRkX4-M2O",
        "outputId": "de5b67c7-0a17-4871-dfec-f62333615e60"
      },
      "outputs": [
        {
          "output_type": "stream",
          "name": "stdout",
          "text": [
            "Loaded pretrained weights for efficientnet-b6\n"
          ]
        }
      ],
      "source": [
        "from tqdm import trange\n",
        "from efficientnet_pytorch import EfficientNet\n",
        "\n",
        "# Specify the EfficientNet model (e.g., EfficientNet-B0)\n",
        "model = EfficientNet.from_pretrained('efficientnet-b6', num_classes=10)  # 10 classes in CIFAR-10\n",
        "\n",
        "# Define loss function and optimizer\n",
        "criterion = torch.nn.CrossEntropyLoss()\n",
        "optimizer = torch.optim.Adam(model.parameters(), lr=0.001)\n"
      ]
    },
    {
      "cell_type": "markdown",
      "source": [
        "All experiments were initially carried out on my local PC using VSCode, however, were later shifted to Google Colab to gain GPU access."
      ],
      "metadata": {
        "id": "JU9S_oWyRa9X"
      }
    },
    {
      "cell_type": "code",
      "execution_count": null,
      "metadata": {
        "id": "BFDND-qfrUiR"
      },
      "outputs": [],
      "source": [
        "device = torch.device(\"cuda\" if torch.cuda.is_available() else \"cpu\")"
      ]
    },
    {
      "cell_type": "code",
      "execution_count": null,
      "metadata": {
        "colab": {
          "base_uri": "https://localhost:8080/"
        },
        "id": "qXRyNdJR2k7W",
        "outputId": "c96b69f6-4dd9-4d82-b461-935347d98e19"
      },
      "outputs": [
        {
          "output_type": "stream",
          "name": "stderr",
          "text": [
            "100%|██████████| 5/5 [03:42<00:00, 44.46s/it]\n"
          ]
        },
        {
          "output_type": "stream",
          "name": "stdout",
          "text": [
            "Test Accuracy: 0.80684\n"
          ]
        }
      ],
      "source": [
        "\n",
        "num_epochs = 5\n",
        "model = model.to(device)\n",
        "\n",
        "# Training loop on the train dataset\n",
        "for epoch in trange(num_epochs):\n",
        "    for inputs, labels in finetune_loader:\n",
        "        optimizer.zero_grad()\n",
        "\n",
        "        inputs, labels = inputs.to(device), labels.to(device)\n",
        "\n",
        "        outputs = model(inputs)\n",
        "        loss = criterion(outputs, labels)\n",
        "        loss.backward()\n",
        "        optimizer.step()\n",
        "\n",
        "# Evaluation on the test dataset\n",
        "model.eval()\n",
        "correct = 0\n",
        "total = 0\n",
        "\n",
        "with torch.no_grad():\n",
        "    for inputs, labels in test_loader:\n",
        "        # Move inputs and labels to the same device as the model\n",
        "        inputs, labels = inputs.to(device), labels.to(device)\n",
        "\n",
        "        outputs = model(inputs)\n",
        "        _, predicted = torch.max(outputs.data, 1)\n",
        "        total += labels.size(0)\n",
        "        correct += (predicted == labels).sum().item()\n",
        "\n",
        "accuracy = correct / total\n",
        "print(f'Test Accuracy: {accuracy}')\n",
        "\n"
      ]
    },
    {
      "cell_type": "markdown",
      "metadata": {
        "id": "zccLikBx9Yg2"
      },
      "source": [
        "Here we see the accuracy of the model on being trained on the 45% finetune dataset, and tested on the 50% test dataset."
      ]
    },
    {
      "cell_type": "code",
      "execution_count": null,
      "metadata": {
        "colab": {
          "base_uri": "https://localhost:8080/"
        },
        "id": "KWbeYhqGVCIl",
        "outputId": "0a8b8ff1-4d3e-40d2-b2bd-9a7950fc7159"
      },
      "outputs": [
        {
          "output_type": "stream",
          "name": "stdout",
          "text": [
            "Test Accuracy: 0.80684\n"
          ]
        }
      ],
      "source": [
        "with torch.no_grad():\n",
        "    for inputs, labels in test_loader:\n",
        "        # Move inputs and labels to the same device as the model\n",
        "        inputs, labels = inputs.to(device), labels.to(device)\n",
        "\n",
        "        outputs = model(inputs)\n",
        "        _, predicted = torch.max(outputs.data, 1)\n",
        "        total += labels.size(0)\n",
        "        correct += (predicted == labels).sum().item()\n",
        "\n",
        "accuracy = correct / total\n",
        "print(f'Test Accuracy: {accuracy}')\n"
      ]
    },
    {
      "cell_type": "code",
      "execution_count": null,
      "metadata": {
        "colab": {
          "base_uri": "https://localhost:8080/"
        },
        "id": "bbj1KlRu8HuD",
        "outputId": "31564259-468c-46a4-ea23-aace50023059"
      },
      "outputs": [
        {
          "output_type": "stream",
          "name": "stdout",
          "text": [
            "Test Accuracy: 80.68%\n"
          ]
        }
      ],
      "source": [
        "accuracy_percentage_nopre = accuracy * 100\n",
        "print(f'Test Accuracy: {accuracy_percentage_nopre:.2f}%')"
      ]
    },
    {
      "cell_type": "markdown",
      "source": [
        "The accuracy seen above is on training the model on 45% of the dataset and then testing on the remaining 50%. We can see the significant, and obvious, increase in accuracy, considering that the model has been trained on correct data."
      ],
      "metadata": {
        "id": "DZN-eiK_Rfi3"
      }
    },
    {
      "cell_type": "markdown",
      "metadata": {
        "id": "VHpQDMSRZNNS"
      },
      "source": [
        "### Self-supervised Learning task.\n",
        "\n",
        "Below, we start the jigsaw puzzle transformation. In the reference provided by the sustainability lab, it was suggested to segment the image into 9 pieces, but I have gone with a 4-piece, i.e, a 2x2 grid, in the interest of time. In the first code block, we are simply dividing the image into 4 parts, and saving every permutation of the shuffled images, alongside their labels, which will help in performing the self-supervised task."
      ]
    },
    {
      "cell_type": "code",
      "execution_count": null,
      "metadata": {
        "id": "YkzNIK_Mrglh"
      },
      "outputs": [],
      "source": [
        "import itertools\n",
        "import numpy as np\n",
        "from PIL import Image\n",
        "\n",
        "bb = []\n",
        "dd = []\n",
        "label = [0,1,2,3]\n",
        "label_permute = list(itertools.permutations(label))\n",
        "h = 32\n",
        "w = 32\n",
        "for img, _ in pretrain_dataset:\n",
        "\n",
        "        c, w, h = img.shape\n",
        "        img_part = np.zeros((4, 3, h // 2, w // 2))\n",
        "        img_part[0] = img[:, : h // 2, : w // 2]\n",
        "        img_part[1] = img[:, h // 2 :, : w // 2]\n",
        "        img_part[2] = img[:, : h // 2, w // 2 :]\n",
        "        img_part[3] = img[:, h // 2 :, w // 2 :]\n",
        "\n",
        "        for j,k in zip(label_permute, range(len(label_permute))):\n",
        "            img_up = np.concatenate((img_part[j[0]], img_part[j[2]]), axis=2)\n",
        "        # Combine the bottom-left and bottom-right parts\n",
        "            img_down = np.concatenate((img_part[j[1]], img_part[j[3]]), axis=2)\n",
        "\n",
        "        # Combine the top and bottom halves to create the final stitched image\n",
        "            remade_image = np.concatenate((img_up, img_down), axis=1)\n",
        "            pil_image = Image.fromarray((remade_image * 255).astype(np.uint8).transpose(1, 2, 0))\n",
        "\n",
        "            bb.append(torch.tensor(remade_image, dtype=torch.float32))\n",
        "            dd.append(torch.tensor(k))"
      ]
    },
    {
      "cell_type": "code",
      "execution_count": null,
      "metadata": {
        "colab": {
          "base_uri": "https://localhost:8080/"
        },
        "id": "k-kbu6o3rglh",
        "outputId": "3d577fdf-b001-4598-8990-9f0e9f6272a6"
      },
      "outputs": [
        {
          "output_type": "execute_result",
          "data": {
            "text/plain": [
              "60000"
            ]
          },
          "metadata": {},
          "execution_count": 69
        }
      ],
      "source": [
        "len(dd)\n",
        "#should be 60000(2500x24)"
      ]
    },
    {
      "cell_type": "code",
      "execution_count": null,
      "metadata": {
        "id": "tA9UPvYXKO42"
      },
      "outputs": [],
      "source": [
        "from torch.utils.data import Dataset\n"
      ]
    },
    {
      "cell_type": "code",
      "execution_count": null,
      "metadata": {
        "id": "8DfJotoAJr1O"
      },
      "outputs": [],
      "source": [
        "import torch\n",
        "from torch.utils.data import Dataset, DataLoader\n",
        "from torchvision import transforms\n",
        "\n",
        "class CustomDataset(Dataset):\n",
        "    def __init__(self, images, labels, transform=None):\n",
        "        self.images = images\n",
        "        self.labels = labels\n",
        "        self.transform = transform\n",
        "\n",
        "    def __len__(self):\n",
        "        return len(self.images)\n",
        "\n",
        "    def __getitem__(self, index):\n",
        "        image = self.images[index]\n",
        "        label = self.labels[index]\n",
        "\n",
        "        # Apply transformations if specified\n",
        "        if self.transform:\n",
        "            image = self.transform(image)\n",
        "\n",
        "        return image, label\n",
        "\n",
        "# Assuming you have lists 'image_list' and 'label_list'\n",
        "# You can define a transform if needed (e.g., convert PIL image to tensor)\n",
        "transform = transforms.Compose([transforms.ToTensor()])\n",
        "\n",
        "# Create a CustomDataset\n",
        "custom_dataset = CustomDataset(images=bb, labels=dd, transform=None)\n",
        "\n",
        "# Create a DataLoader\n",
        "batch_size = 128\n",
        "ssl_data_loader = DataLoader(dataset=custom_dataset, batch_size=batch_size, shuffle=True)\n"
      ]
    },
    {
      "cell_type": "code",
      "execution_count": null,
      "metadata": {
        "colab": {
          "base_uri": "https://localhost:8080/"
        },
        "id": "gaQlVazHjcuc",
        "outputId": "f42be495-2e93-4fca-e8ad-0ee6cbaa5d28"
      },
      "outputs": [
        {
          "output_type": "stream",
          "name": "stdout",
          "text": [
            "cuda\n"
          ]
        }
      ],
      "source": [
        "import torch\n",
        "device = torch.device(\"cuda\" if torch.cuda.is_available() else \"cpu\")\n",
        "print(device)"
      ]
    },
    {
      "cell_type": "code",
      "execution_count": null,
      "metadata": {
        "colab": {
          "base_uri": "https://localhost:8080/"
        },
        "id": "X6t7viYM48Gg",
        "outputId": "0994bde2-a0f6-410d-eb6b-120035bc1211"
      },
      "outputs": [
        {
          "output_type": "stream",
          "name": "stdout",
          "text": [
            "Loaded pretrained weights for efficientnet-b6\n"
          ]
        }
      ],
      "source": [
        "from tqdm import trange\n",
        "import tqdm\n",
        "from efficientnet_pytorch import EfficientNet\n",
        "\n",
        "# Specify the EfficientNet model_ssl (e.g., EfficientNet-B0)\n",
        "model_ssl = EfficientNet.from_pretrained('efficientnet-b6', num_classes=24)  # 10 classes in CIFAR-10\n",
        "\n",
        "# Define loss function and optimizer\n",
        "criterion = torch.nn.CrossEntropyLoss()\n",
        "optimizer = torch.optim.Adam(model_ssl.parameters(), lr=0.001)\n",
        "\n",
        "num_epochs = 10\n",
        "model_ssl = model_ssl.to(device)\n"
      ]
    },
    {
      "cell_type": "markdown",
      "source": [
        "## Only SSL, No finetuning"
      ],
      "metadata": {
        "id": "7pqqIsx8WTbr"
      }
    },
    {
      "cell_type": "code",
      "execution_count": null,
      "metadata": {
        "colab": {
          "base_uri": "https://localhost:8080/"
        },
        "id": "fcd9cogj5BcU",
        "outputId": "9bc9e71d-bdf0-4eb4-a24f-2dbdda62b796"
      },
      "outputs": [
        {
          "output_type": "stream",
          "name": "stderr",
          "text": [
            " 10%|█         | 1/10 [01:57<17:40, 117.86s/it]"
          ]
        },
        {
          "output_type": "stream",
          "name": "stdout",
          "text": [
            "Epoch 1/10, Loss: 1.3279, Accuracy: 0.5850\n"
          ]
        },
        {
          "output_type": "stream",
          "name": "stderr",
          "text": [
            "\r 20%|██        | 2/10 [03:54<15:39, 117.43s/it]"
          ]
        },
        {
          "output_type": "stream",
          "name": "stdout",
          "text": [
            "Epoch 2/10, Loss: 0.1462, Accuracy: 0.9564\n"
          ]
        },
        {
          "output_type": "stream",
          "name": "stderr",
          "text": [
            "\r 30%|███       | 3/10 [05:51<13:39, 117.00s/it]"
          ]
        },
        {
          "output_type": "stream",
          "name": "stdout",
          "text": [
            "Epoch 3/10, Loss: 0.0564, Accuracy: 0.9843\n"
          ]
        },
        {
          "output_type": "stream",
          "name": "stderr",
          "text": [
            "\r 40%|████      | 4/10 [07:48<11:42, 117.07s/it]"
          ]
        },
        {
          "output_type": "stream",
          "name": "stdout",
          "text": [
            "Epoch 4/10, Loss: 0.0421, Accuracy: 0.9889\n"
          ]
        },
        {
          "output_type": "stream",
          "name": "stderr",
          "text": [
            "\r 50%|█████     | 5/10 [09:46<09:46, 117.29s/it]"
          ]
        },
        {
          "output_type": "stream",
          "name": "stdout",
          "text": [
            "Epoch 5/10, Loss: 0.0331, Accuracy: 0.9913\n"
          ]
        },
        {
          "output_type": "stream",
          "name": "stderr",
          "text": [
            "\r 60%|██████    | 6/10 [11:43<07:49, 117.25s/it]"
          ]
        },
        {
          "output_type": "stream",
          "name": "stdout",
          "text": [
            "Epoch 6/10, Loss: 0.0294, Accuracy: 0.9922\n"
          ]
        },
        {
          "output_type": "stream",
          "name": "stderr",
          "text": [
            "\r 70%|███████   | 7/10 [13:39<05:50, 116.83s/it]"
          ]
        },
        {
          "output_type": "stream",
          "name": "stdout",
          "text": [
            "Epoch 7/10, Loss: 0.0284, Accuracy: 0.9930\n"
          ]
        },
        {
          "output_type": "stream",
          "name": "stderr",
          "text": [
            "\r 80%|████████  | 8/10 [15:36<03:53, 116.75s/it]"
          ]
        },
        {
          "output_type": "stream",
          "name": "stdout",
          "text": [
            "Epoch 8/10, Loss: 0.0284, Accuracy: 0.9932\n"
          ]
        },
        {
          "output_type": "stream",
          "name": "stderr",
          "text": [
            "\r 90%|█████████ | 9/10 [17:33<01:56, 116.81s/it]"
          ]
        },
        {
          "output_type": "stream",
          "name": "stdout",
          "text": [
            "Epoch 9/10, Loss: 0.0445, Accuracy: 0.9892\n"
          ]
        },
        {
          "output_type": "stream",
          "name": "stderr",
          "text": [
            "100%|██████████| 10/10 [19:29<00:00, 116.95s/it]"
          ]
        },
        {
          "output_type": "stream",
          "name": "stdout",
          "text": [
            "Epoch 10/10, Loss: 0.0294, Accuracy: 0.9931\n"
          ]
        },
        {
          "output_type": "stream",
          "name": "stderr",
          "text": [
            "\n"
          ]
        }
      ],
      "source": [
        "# Training loop on the train dataset\n",
        "for epoch in trange(num_epochs):\n",
        "    total_loss = 0.0\n",
        "    correct_predictions = 0\n",
        "    total_samples = 0\n",
        "    for inputs, labels in ssl_data_loader:\n",
        "\n",
        "        optimizer.zero_grad()\n",
        "        outputs = model_ssl(inputs.to(device))\n",
        "        loss = criterion(outputs, labels.to(device))\n",
        "        loss.backward()\n",
        "        optimizer.step()\n",
        "\n",
        "        total_loss += loss.item()\n",
        "\n",
        "        # Calculate accuracy\n",
        "        _, predicted = torch.max(outputs, 1)\n",
        "        correct_predictions += (predicted == labels.to(device)).sum().item()\n",
        "        total_samples += labels.size(0)\n",
        "\n",
        "    # Calculate epoch-level metrics\n",
        "    epoch_loss = total_loss / len(ssl_data_loader)\n",
        "    epoch_accuracy = correct_predictions / total_samples\n",
        "\n",
        "    # Display loss and accuracy after each epoch\n",
        "    print(f\"Epoch {epoch + 1}/{num_epochs}, Loss: {epoch_loss:.4f}, Accuracy: {epoch_accuracy:.4f}\")\n",
        "\n"
      ]
    },
    {
      "cell_type": "code",
      "execution_count": null,
      "metadata": {
        "colab": {
          "base_uri": "https://localhost:8080/"
        },
        "id": "PWGATeFThaAF",
        "outputId": "7f4d8b3a-0338-4f1c-fdc3-b7c7ad634af2"
      },
      "outputs": [
        {
          "output_type": "stream",
          "name": "stdout",
          "text": [
            "Test Accuracy: 5.02400%\n"
          ]
        }
      ],
      "source": [
        "\n",
        "\n",
        "# Evaluation on the test dataset\n",
        "model_ssl.eval()\n",
        "correct = 0\n",
        "total = 0\n",
        "\n",
        "with torch.no_grad():\n",
        "    for inputs, labels in test_loader:\n",
        "        outputs = model_ssl(inputs.to(device))\n",
        "        _, predicted = torch.max(outputs.data, 1)\n",
        "        total += labels.size(0)\n",
        "        correct += (predicted == labels.to(device)).sum().item()\n",
        "\n",
        "accuracy = correct / total\n",
        "accuracy_percentage = accuracy * 100\n",
        "print(f'Test Accuracy: {accuracy_percentage:.5f}%')\n"
      ]
    },
    {
      "cell_type": "markdown",
      "metadata": {
        "id": "mL1JzwdEOzES"
      },
      "source": [
        "\n",
        "The accuracy obtained above (around 5%) is for when the SSL task is carried out followed by testing, nothing else. This low value is expected because we haven't trained it on a substantial amount of data. Moreover, we are training it on shuffled images to predict the permutation, and testing it by making it predict the correct class from the CIFAR-10 dataset.\n",
        "\n",
        "However, we can see that this is a **significant increase from the 0.02% accuracy** we recorded on the completely untrained model, which shows that **valuable feature recognition and image patterns** are learnt during the SSL task, and are useful for the downstream classification task.\n",
        "\n",
        "Now below, we will add a linear layer to make our model suitable for CIFAR-10 classification task.The model will carry forward the weights it has learned from the SSL task, and be further finetuned by training on the 45% finetune dataset.\n"
      ]
    },
    {
      "cell_type": "code",
      "execution_count": null,
      "metadata": {
        "id": "izv49SmtOweO"
      },
      "outputs": [],
      "source": [
        "import torch\n",
        "import torch.nn as nn\n",
        "from efficientnet_pytorch import EfficientNet\n",
        "\n",
        "# Load pre-trained EfficientNet model\n",
        "efficientnet_model = model_ssl\n",
        "# Get the in_features of the last layer in the EfficientNet model\n",
        "in_features = efficientnet_model._fc.in_features"
      ]
    },
    {
      "cell_type": "markdown",
      "metadata": {
        "id": "9oJku2ZUavaO"
      },
      "source": [
        "Below we will define the architecture we want to replace the last layer of our EffNet architecture with."
      ]
    },
    {
      "cell_type": "code",
      "execution_count": null,
      "metadata": {
        "id": "XdoHqiaBO5Zk"
      },
      "outputs": [],
      "source": [
        "custom_model = nn.Sequential(\n",
        "    nn.Linear(in_features=2304, out_features=512),\n",
        "    nn.ReLU(),\n",
        "    nn.Linear(in_features=512, out_features=10),  # Adjust out_features based on your requirement\n",
        "    nn.Softmax(dim=1)  # Add softmax activation along dimension 1 (assuming a classification task)\n",
        ")\n",
        "\n"
      ]
    },
    {
      "cell_type": "code",
      "execution_count": null,
      "metadata": {
        "id": "WrgX6Qc9ociy"
      },
      "outputs": [],
      "source": [
        "\n",
        "device = torch.device(\"cuda\" if torch.cuda.is_available() else \"cpu\")\n",
        "efficientnet_model.to(device)\n",
        "custom_model.to(device)\n",
        "\n",
        "efficientnet_model._fc = nn.Linear(in_features=2304, out_features=10).to(device)\n",
        "\n",
        "\n"
      ]
    },
    {
      "cell_type": "code",
      "execution_count": null,
      "metadata": {
        "id": "y4e9YEDvBAfP"
      },
      "outputs": [],
      "source": [
        "from tqdm import trange\n",
        "from efficientnet_pytorch import EfficientNet\n",
        "\n",
        "criterion = torch.nn.CrossEntropyLoss()\n",
        "optimizer = torch.optim.Adam(model.parameters(), lr=0.001)\n",
        "\n",
        "num_epochs = 10\n"
      ]
    },
    {
      "cell_type": "markdown",
      "source": [
        "We use our modified model for the CIFAR-10 classification task below."
      ],
      "metadata": {
        "id": "WrIarQahWaec"
      }
    },
    {
      "cell_type": "code",
      "execution_count": null,
      "metadata": {
        "colab": {
          "base_uri": "https://localhost:8080/"
        },
        "id": "G7tXG8C2PfkH",
        "outputId": "788c517c-c56f-4197-8b74-000074d35a9b"
      },
      "outputs": [
        {
          "output_type": "stream",
          "name": "stderr",
          "text": [
            "Epochs:  20%|██        | 1/5 [00:46<03:06, 46.62s/it]"
          ]
        },
        {
          "output_type": "stream",
          "name": "stdout",
          "text": [
            "Epoch 1/5, Loss: 0.0188\n"
          ]
        },
        {
          "output_type": "stream",
          "name": "stderr",
          "text": [
            "\rEpochs:  40%|████      | 2/5 [01:33<02:20, 46.79s/it]"
          ]
        },
        {
          "output_type": "stream",
          "name": "stdout",
          "text": [
            "Epoch 2/5, Loss: 0.0188\n"
          ]
        },
        {
          "output_type": "stream",
          "name": "stderr",
          "text": [
            "\rEpochs:  60%|██████    | 3/5 [02:20<01:33, 46.74s/it]"
          ]
        },
        {
          "output_type": "stream",
          "name": "stdout",
          "text": [
            "Epoch 3/5, Loss: 0.0188\n"
          ]
        },
        {
          "output_type": "stream",
          "name": "stderr",
          "text": [
            "\rEpochs:  80%|████████  | 4/5 [03:07<00:46, 46.82s/it]"
          ]
        },
        {
          "output_type": "stream",
          "name": "stdout",
          "text": [
            "Epoch 4/5, Loss: 0.0188\n"
          ]
        },
        {
          "output_type": "stream",
          "name": "stderr",
          "text": [
            "Epochs: 100%|██████████| 5/5 [03:53<00:00, 46.74s/it]"
          ]
        },
        {
          "output_type": "stream",
          "name": "stdout",
          "text": [
            "Epoch 5/5, Loss: 0.0188\n"
          ]
        },
        {
          "output_type": "stream",
          "name": "stderr",
          "text": [
            "\n"
          ]
        },
        {
          "output_type": "stream",
          "name": "stdout",
          "text": [
            "Test Accuracy: 0.09708\n"
          ]
        }
      ],
      "source": [
        "\n",
        "num_epochs = 5\n",
        "model = model.to(device)\n",
        "\n",
        "# Training loop on the train dataset\n",
        "for epoch in trange(num_epochs, desc='Epochs'):\n",
        "    total_loss = 0.0\n",
        "    total_samples = 0\n",
        "\n",
        "    for inputs, labels in finetune_loader:\n",
        "        optimizer.zero_grad()\n",
        "\n",
        "        inputs, labels = inputs.to(device), labels.to(device)\n",
        "\n",
        "        outputs = efficientnet_model(inputs)\n",
        "        loss = criterion(outputs, labels)\n",
        "        loss.backward()\n",
        "        optimizer.step()\n",
        "\n",
        "        total_loss += loss.item()\n",
        "        total_samples += labels.size(0)\n",
        "\n",
        "    average_loss = total_loss / total_samples\n",
        "\n",
        "    print(f'Epoch {epoch + 1}/{num_epochs}, Loss: {average_loss:.4f}')\n",
        "\n",
        "\n",
        "# Evaluation on the test dataset\n",
        "model.eval()\n",
        "correct = 0\n",
        "total = 0\n",
        "\n",
        "with torch.no_grad():\n",
        "    for inputs, labels in test_loader:\n",
        "        # Move inputs and labels to the same device as the model\n",
        "        inputs, labels = inputs.to(device), labels.to(device)\n",
        "\n",
        "        outputs = efficientnet_model(inputs)\n",
        "        _, predicted = torch.max(outputs.data, 1)\n",
        "        total += labels.size(0)\n",
        "        correct += (predicted == labels).sum().item()\n",
        "\n",
        "accuracy = correct / total\n",
        "print(f'Test Accuracy: {accuracy}')\n",
        "\n"
      ]
    },
    {
      "cell_type": "code",
      "execution_count": null,
      "metadata": {
        "colab": {
          "base_uri": "https://localhost:8080/"
        },
        "id": "GmXxtjASooLt",
        "outputId": "6e55bdbd-4e32-4e70-ae92-4451b5225be0"
      },
      "outputs": [
        {
          "output_type": "stream",
          "name": "stdout",
          "text": [
            "Test Accuracy: 9.708\n"
          ]
        }
      ],
      "source": [
        "\n",
        "\n",
        "# Evaluation on the test dataset\n",
        "efficientnet_model.eval()\n",
        "correct = 0\n",
        "total = 0\n",
        "\n",
        "with torch.no_grad():\n",
        "    for inputs, labels in test_loader:\n",
        "        outputs = efficientnet_model(inputs.to(device))\n",
        "        _, predicted = torch.max(outputs.data, 1)\n",
        "        total += labels.size(0)\n",
        "        correct += (predicted == labels.to(device)).sum().item()\n",
        "\n",
        "accuracy = correct / total\n",
        "print(f'Test Accuracy: {accuracy*100}')"
      ]
    },
    {
      "cell_type": "code",
      "execution_count": null,
      "metadata": {
        "colab": {
          "base_uri": "https://localhost:8080/"
        },
        "id": "9PzLzJZrfJQV",
        "outputId": "3194f83d-d03e-4374-b54d-254d63d700a0"
      },
      "outputs": [
        {
          "output_type": "stream",
          "name": "stdout",
          "text": [
            "Test Accuracy: 9.708\n"
          ]
        }
      ],
      "source": [
        "\n",
        "print(f'Test Accuracy: {accuracy*100}')"
      ]
    },
    {
      "cell_type": "markdown",
      "source": [
        "On finetuning the model on our finetune dataset, we can see that the accuracy has increased from 5% to 9.7%. This increase can be seen since the model has since been trained on the CIFAR-10 dataset to predict the correct class from the image.\n",
        "\n",
        "However, I was expecting the model to outperform the experiment where training is done without the SSL pretraining, but unfortunately, I couldn't achieve those results. I tried various debugging statements, added print statements in various places, etc to debug the problem, but wasn't succesful. I even plotted some figures, including the confusion matrix, the Loss vs Epochs graph, etc, but couldn't reach the root of the problem.\n",
        "\n",
        "I hope to learn in thourough depth once I join the team at the Sustainability lab :)"
      ],
      "metadata": {
        "id": "Lc_hrxmDWgb-"
      }
    },
    {
      "cell_type": "code",
      "execution_count": null,
      "metadata": {
        "colab": {
          "base_uri": "https://localhost:8080/",
          "height": 811
        },
        "id": "M5EunbQbeFa5",
        "outputId": "c48f15a6-2e21-4ddc-869a-30966b751b46"
      },
      "outputs": [
        {
          "output_type": "stream",
          "name": "stdout",
          "text": [
            "\n",
            "Confusion Matrix:\n",
            "[[1 0 0 0 0 2 0 0 0 0]\n",
            " [1 0 0 0 0 1 0 0 0 0]\n",
            " [1 0 0 1 0 3 0 0 0 0]\n",
            " [4 0 0 0 0 0 0 0 0 0]\n",
            " [1 0 0 1 0 1 0 0 0 0]\n",
            " [2 0 0 0 0 0 0 0 1 0]\n",
            " [0 0 0 0 1 5 0 0 0 0]\n",
            " [3 0 0 0 1 2 0 0 0 0]\n",
            " [2 0 0 1 1 1 0 0 0 0]\n",
            " [2 0 0 0 0 1 0 0 0 0]]\n"
          ]
        },
        {
          "output_type": "display_data",
          "data": {
            "text/plain": [
              "<Figure size 1000x800 with 2 Axes>"
            ],
            "image/png": "[encoded data removed]"
          },
          "metadata": {}
        }
      ],
      "source": [
        "from sklearn.metrics import confusion_matrix\n",
        "import seaborn as sns\n",
        "import matplotlib.pyplot as plt\n",
        "\n",
        "conf_matrix = confusion_matrix(labels.cpu().numpy(), predicted.cpu().numpy())\n",
        "print(f'\\nConfusion Matrix:\\n{conf_matrix}')\n",
        "\n",
        "# Display the confusion matrix as a heatmap\n",
        "plt.figure(figsize=(10, 8))\n",
        "sns.heatmap(conf_matrix, annot=True, fmt='d', cmap='Blues', xticklabels=True, yticklabels=True)\n",
        "plt.xlabel('Predicted Labels')\n",
        "plt.ylabel('True Labels')\n",
        "plt.title('Confusion Matrix')\n",
        "plt.show()"
      ]
    },
    {
      "cell_type": "markdown",
      "source": [
        "## Discarded Codes\n",
        "Below are several app"
      ],
      "metadata": {
        "id": "_BR3FjsUXh7v"
      }
    },
    {
      "cell_type": "code",
      "execution_count": null,
      "metadata": {
        "id": "xQaRs_jrBFSh"
      },
      "outputs": [],
      "source": [
        "# # Training loop on the train dataset\n",
        "# for epoch in trange(num_epochs):\n",
        "#     for inputs, labels in finetune_loader:\n",
        "#         print(inputs.shape)\n",
        "#         print(labels.shape)\n",
        "#         optimizer.zero_grad()\n",
        "\n",
        "#         outputs = model(inputs.to(device))\n",
        "\n",
        "#         # Add a singleton dimension to labels\n",
        "#         labels = labels.unsqueeze(1)\n",
        "#         labels = labels.unsqueeze(1)\n",
        "\n",
        "#         loss = criterion(outputs, labels.to(device))\n",
        "#         loss.backward()\n",
        "#         optimizer.step()\n",
        "\n",
        "#         total_loss += loss.item()\n",
        "\n",
        "#         # Calculate accuracy\n",
        "#         _, predicted = torch.max(outputs, 1)\n",
        "#         correct_predictions += (predicted == labels.to(device)).sum().item()\n",
        "#         total_samples += labels.size(0)\n",
        "\n",
        "#     # Calculate epoch-level metrics\n",
        "#     epoch_loss = total_loss / len(finetune_loader)  # Fix the loader name\n",
        "#     epoch_accuracy = correct_predictions / total_samples\n",
        "\n",
        "#     # Display loss and accuracy after each epoch\n",
        "#     print(f\"Epoch {epoch + 1}/{num_epochs}, Loss: {epoch_loss:.4f}, Accuracy: {epoch_accuracy:.4f}\")\n"
      ]
    },
    {
      "cell_type": "code",
      "execution_count": null,
      "metadata": {
        "id": "Oaesg7ZCrglh"
      },
      "outputs": [],
      "source": [
        "# from tqdm import trange\n",
        "\n",
        "# criterion = nn.CrossEntropyLoss()\n",
        "# optimizer = optim.Adam(cfn_model.parameters(), lr=0.0001)\n",
        "# # pretrain_loader = tqdm(pretrain_loader, total=len(pretrain_loader), desc=\"Pretraining\")\n",
        "# print(100)\n",
        "# import matplotlib.pyplot as plt\n",
        "\n",
        "# # Assuming cfn_model, criterion, optimizer, and data (bb, dd) are defined as before\n",
        "\n",
        "# cfn_model.train()\n",
        "# num_pretrain_epochs = 25\n",
        "# losses = []  # To store losses for plotting\n",
        "\n",
        "# for epoch in trange(num_pretrain_epochs):\n",
        "#     epoch_losses = []\n",
        "#     for inputs, label in zip(bb, dd):\n",
        "#         optimizer.zero_grad()\n",
        "#         inputs = inputs.unsqueeze(0)\n",
        "#         # print(inputs.shape)\n",
        "#         # print(label.shape)\n",
        "#         # inputs = inputs.mean(dim=1, keepdim=True)\n",
        "#         # inputs = inputs.repeat(1, 3, 1, 1)\n",
        "#         outputs = cfn_model(inputs)\n",
        "#         if not torch.is_tensor(label):\n",
        "#             label = torch.tensor(label, dtype=torch.long)\n",
        "#         label = label.reshape(1)\n",
        "#         loss = criterion(outputs, label)\n",
        "#         epoch_losses.append(loss.item())\n",
        "#         loss.backward()\n",
        "#         optimizer.step()\n",
        "\n",
        "#     # Calculate average loss for the epoch\n",
        "#     print(epoch_losses)\n",
        "#     avg_epoch_loss = sum(epoch_losses) / len(epoch_losses)\n",
        "#     losses.append(avg_epoch_loss)\n",
        "\n",
        "#     print(f\"Epoch: {epoch}, Avg Loss: {avg_epoch_loss}\")\n",
        "\n",
        "# # Plot loss vs epoch\n",
        "# plt.plot(range(1, num_pretrain_epochs + 1), losses, marker='o')\n",
        "# plt.title('Loss vs Epoch')\n",
        "# plt.xlabel('Epoch')\n",
        "# plt.ylabel('Average Loss')\n",
        "# plt.show()\n"
      ]
    },
    {
      "cell_type": "code",
      "execution_count": null,
      "metadata": {
        "id": "3wjDtzmlrglf"
      },
      "outputs": [],
      "source": [
        "# from tqdm import trange\n",
        "# class JigsawPuzzleTransform:\n",
        "#     def __init__(self, grid_size=1):\n",
        "#         self.grid_size = grid_size\n",
        "\n",
        "#     def __call__(self, img):\n",
        "#         # Assuming img is a PIL Image\n",
        "#         w, h = img.size\n",
        "#         patch_size = w // self.grid_size\n",
        "\n",
        "#         patches = []\n",
        "#         for i in trange(self.grid_size):\n",
        "#             for j in range(self.grid_size):\n",
        "#                 patch = transforms.functional.crop(img, i * patch_size, j * patch_size, patch_size, patch_size)\n",
        "#                 patches.append(patch)\n",
        "\n",
        "#         # Shuffle the patches\n",
        "#         random.shuffle(patches)\n",
        "\n",
        "#         # Concatenate the shuffled patches\n",
        "#         shuffled_img = torch.cat(patches, dim=2)\n",
        "\n",
        "#         return shuffled_img\n"
      ]
    },
    {
      "cell_type": "code",
      "execution_count": null,
      "metadata": {
        "id": "_YCrNpmmrglg"
      },
      "outputs": [],
      "source": [
        "# bb = []\n",
        "# for img, _ in pretrain_dataset:\n",
        "#     # Assuming img is a tensor with shape (channels, height, width)\n",
        "#     c, w, h = img.shape\n",
        "#     grid_size = 2\n",
        "#     patch_size = w // grid_size\n",
        "\n",
        "#     patches = []\n",
        "#     for i in range(grid_size):\n",
        "#         for j in range(grid_size):\n",
        "#             patch = img[:, i * patch_size:(i + 1) * patch_size, j * patch_size:(j + 1) * patch_size]\n",
        "#             patches.append(patch)\n",
        "\n",
        "#     # Shuffle the patches\n",
        "\n",
        "#     random.shuffle(patches)\n",
        "\n",
        "#     # Concatenate the shuffled patches along the last two dimensions (width and height)\n",
        "#     shuffled_img = torch.cat(patches, dim=1)\n",
        "\n",
        "#     bb.append(shuffled_img)\n"
      ]
    },
    {
      "cell_type": "code",
      "execution_count": null,
      "metadata": {
        "id": "NWaUZZHErglf"
      },
      "outputs": [],
      "source": [
        "\n",
        "# class CFN(nn.Module):\n",
        "#     def __init__(self, num_permutations):\n",
        "#         super(CFN, self).__init__()\n",
        "\n",
        "#         # Define CFN architecture\n",
        "#         self.conv1 = nn.Conv2d(3, 64, kernel_size=3, stride=1, padding=1)\n",
        "#         self.conv2 = nn.Conv2d(64, 128, kernel_size=3, stride=1, padding=1)\n",
        "#         self.pool = nn.MaxPool2d(kernel_size=2, stride=2, padding=0)\n",
        "#         self.fc1 = nn.Linear(128 * 8 * 8, num_permutations)\n",
        "\n",
        "#     def forward(self, x):\n",
        "#         # Implement forward pass for self-supervised task\n",
        "#         x = self.pool(F.relu(self.conv1(x)))\n",
        "#         x = self.pool(F.relu(self.conv2(x)))\n",
        "#         x = x.view(-1, 128 * 8 * 8)  # Flatten the output for fully connected layer\n",
        "#         x = self.fc1(x)\n",
        "#         x = F.softmax(x, dim=1)\n",
        "#         return x\n",
        "\n",
        "# # Set up CFN model for self-supervised pre-training\n",
        "# num_permutations = 24\n",
        "# cfn_model = CFN(num_permutations)\n"
      ]
    },
    {
      "cell_type": "markdown",
      "metadata": {
        "id": "nTMoCaCuzTzs"
      },
      "source": []
    },
    {
      "cell_type": "code",
      "execution_count": null,
      "metadata": {
        "id": "Rk2_qL8uFyY0",
        "colab": {
          "base_uri": "https://localhost:8080/"
        },
        "outputId": "cfc2e42e-b002-4066-913d-c5c16ce5284b"
      },
      "outputs": [
        {
          "output_type": "execute_result",
          "data": {
            "text/plain": [
              "60000"
            ]
          },
          "metadata": {},
          "execution_count": 89
        }
      ],
      "source": [
        "len(bb)"
      ]
    },
    {
      "cell_type": "code",
      "execution_count": null,
      "metadata": {
        "id": "NCXpTDIPrglh"
      },
      "outputs": [],
      "source": [
        "# pretrain_loader_iter = iter(finetune_loader)\n",
        "# inputs, _ = next(pretrain_loader_iter)\n",
        "# print(inputs.size())\n"
      ]
    },
    {
      "cell_type": "code",
      "execution_count": null,
      "metadata": {
        "id": "7g0CyxNH0w0G"
      },
      "outputs": [],
      "source": [
        "# model_effnet = create_model('efficientnet_b6', pretrained=False)\n",
        "# num_classes = 10  # Adjust according to your task\n",
        "# model_effnet.fc = nn.Linear(model_effnet.num_features, num_classes)\n",
        "\n",
        "# # Define loss function and optimizer\n",
        "# criterion = nn.CrossEntropyLoss()\n",
        "# optimizer = optim.Adam(model_effnet.parameters(), lr=0.001)\n",
        "\n",
        "# # Training loop\n",
        "# num_epochs = 5  # Adjust as needed\n",
        "\n",
        "# transform = transforms.Compose([\n",
        "#     transforms.ToPILImage(),\n",
        "#     transforms.ToTensor(),\n",
        "#     transforms.Normalize(mean=[0.485, 0.456, 0.406], std=[0.229, 0.224, 0.225]),\n",
        "# ])\n",
        "# model_effnet.train()  # Set the model_effnet to training mode\n",
        "# for epoch in range(num_epochs):\n",
        "#     for inputs, labels in finetune_dataset:\n",
        "#         # Apply transforms and add batch dimension\n",
        "#         inputs = transform(inputs).unsqueeze(0)\n",
        "\n",
        "#         optimizer.zero_grad()  # Zero the gradients\n",
        "\n",
        "#         # Forward pass\n",
        "#         outputs = model_effnet(inputs)\n",
        "#         loss = criterion(outputs, labels)\n",
        "\n",
        "#         # Backward pass and optimization\n",
        "#         loss.backward()\n",
        "#         optimizer.step()\n",
        "\n",
        "#     print(f'Epoch {epoch + 1}/{num_epochs}, Loss: {loss.item()}')\n",
        "\n"
      ]
    },
    {
      "cell_type": "code",
      "execution_count": null,
      "metadata": {
        "id": "xv1QTHD4EQYz"
      },
      "outputs": [],
      "source": [
        "# from torchvision import transforms\n",
        "\n",
        "# # Assuming 'efficient_net_model' is your EfficientNet model\n",
        "\n",
        "# # Define a transform for EfficientNet\n",
        "# efficientnet_transform = transforms.Compose([\n",
        "#     transforms.Resize((224, 224)),  # Assuming EfficientNet is trained on 224x224 images\n",
        "#     transforms.ToTensor(),\n",
        "#     transforms.Normalize(mean=[0.485, 0.456, 0.406], std=[0.229, 0.224, 0.225]),\n",
        "# ])\n",
        "\n",
        "# cfn_model.train()\n",
        "# num_pretrain_epochs = 25\n",
        "# losses = []  # To store losses for plotting\n",
        "\n",
        "# for epoch in trange(num_pretrain_epochs):\n",
        "#     epoch_losses = []\n",
        "#     for inputs, label in zip(bb, dd):\n",
        "#         optimizer.zero_grad()\n",
        "\n",
        "#         # Convert PyTorch tensor to PIL Image\n",
        "#         inputs_pil = transforms.ToPILImage()(inputs)\n",
        "\n",
        "#         # Apply EfficientNet transform\n",
        "#         inputs_transformed = efficientnet_transform(inputs_pil)\n",
        "\n",
        "#         # Add a batch dimension\n",
        "#         inputs_transformed = inputs_transformed.unsqueeze(0)\n",
        "\n",
        "#         # Make sure the label is a tensor\n",
        "#         if not torch.is_tensor(label):\n",
        "#             label = torch.tensor(label, dtype=torch.long)\n",
        "#         label = label.reshape(1)\n",
        "\n",
        "#         # Forward pass\n",
        "#         outputs = cfn_model(inputs_transformed)\n",
        "\n",
        "#         # Calculate loss and perform backward pass\n",
        "#         loss = criterion(outputs, label)\n",
        "#         epoch_losses.append(loss.item())\n",
        "#         loss.backward()\n",
        "#         optimizer.step()\n",
        "\n",
        "#     # Calculate average loss for the epoch\n",
        "#     avg_epoch_loss = sum(epoch_losses) / len(epoch_losses)\n",
        "#     losses.append(avg_epoch_loss)\n",
        "\n",
        "#     print(f\"Epoch: {epoch}, Avg Loss: {avg_epoch_loss}\")\n"
      ]
    },
    {
      "cell_type": "code",
      "execution_count": null,
      "metadata": {
        "id": "QfmiAC8qrgli"
      },
      "outputs": [],
      "source": []
    },
    {
      "cell_type": "code",
      "execution_count": null,
      "metadata": {
        "id": "UCXxIUW6rgli"
      },
      "outputs": [],
      "source": [
        "# from tqdm import tqdm\n",
        "\n",
        "# criterion = nn.CrossEntropyLoss()\n",
        "# optimizer = optim.Adam(cfn_model.parameters(), lr=0.001)\n",
        "# pretrain_loader = tqdm(pretrain_loader, total=len(pretrain_loader), desc=\"Pretraining\")\n",
        "# print(100)\n",
        "# cfn_model.train()\n",
        "# num_pretrain_epochs = 2\n",
        "# print(0)\n",
        "# for epoch in range(num_pretrain_epochs):\n",
        "#     print(3)\n",
        "#     for inputs, _ in pretrain_loader:\n",
        "#         print(4)\n",
        "#         optimizer.zero_grad()\n",
        "#         print(1)\n",
        "#         outputs = cfn_model(inputs)\n",
        "#         target = torch.arange(num_permutations)[:inputs.size(0)]\n",
        "#         print(2)\n",
        "#         loss = criterion(outputs, target)\n",
        "#         loss.backward()\n",
        "#         optimizer.step()\n",
        "\n",
        "#         # Update the progress bar\n",
        "#         pretrain_loader.set_postfix({\"Epoch\": epoch + 1, \"Loss\": loss.item()}, refresh=True)"
      ]
    },
    {
      "cell_type": "code",
      "execution_count": null,
      "metadata": {
        "id": "sq0bpdmC-_2q"
      },
      "outputs": [],
      "source": [
        "# cfn_model = EfficientNet.from_pretrained('efficientnet-b6', num_classes=24)"
      ]
    },
    {
      "cell_type": "code",
      "execution_count": null,
      "metadata": {
        "id": "vebhzk9urgli"
      },
      "outputs": [],
      "source": [
        "# classifier_model = nn.Sequential(\n",
        "#     cfn_model,  # Use the pre-trained CFN as the initial layers\n",
        "#     nn.Linear(num_permutations, 10)  # Adjust num_classes as needed\n",
        "# )\n",
        "\n",
        "# classifier_criterion = nn.CrossEntropyLoss()\n",
        "# classifier_optimizer = optim.Adam(classifier_model.parameters(), lr=0.001)"
      ]
    },
    {
      "cell_type": "code",
      "execution_count": null,
      "metadata": {
        "id": "AbrRvK2Qrgli"
      },
      "outputs": [],
      "source": [
        "# import torch\n",
        "# import torch.nn.functional as F\n",
        "\n",
        "\n",
        "# num_fine_tune_epochs = 5\n",
        "\n",
        "\n",
        "# for epoch in trange(num_fine_tune_epochs):\n",
        "#     classifier_model.train()\n",
        "\n",
        "#     for inputs, labels in finetune_dataset:\n",
        "#         optimizer.zero_grad()\n",
        "#         classifier_outputs = classifier_model(inputs)\n",
        "#         # Convert labels to tensor if not already\n",
        "#         if not torch.is_tensor(labels):\n",
        "#             labels = torch.tensor(labels, dtype=torch.long)\n",
        "#         labels = labels.reshape(1)\n",
        "#         # Compute cross-entropy loss\n",
        "#         loss = F.cross_entropy(classifier_outputs, labels)\n",
        "\n",
        "#         loss.backward()\n",
        "#         optimizer.step()\n"
      ]
    },
    {
      "cell_type": "code",
      "execution_count": null,
      "metadata": {
        "id": "K9HU8L53rgli"
      },
      "outputs": [],
      "source": [
        "# classifier_model.eval()\n",
        "\n",
        "# correct = 0\n",
        "# total = 0\n",
        "\n",
        "# with torch.no_grad():\n",
        "#     for inputs, labels in test_dataset:\n",
        "#         # Convert labels to tensor if not already\n",
        "#         if not torch.is_tensor(labels):\n",
        "#             labels = torch.tensor(labels, dtype=torch.long)\n",
        "\n",
        "#         outputs = classifier_model(inputs)\n",
        "#         _, predicted = torch.max(outputs.data, 1)\n",
        "\n",
        "#         # Ensure that labels is a tensor\n",
        "#         labels = torch.tensor(labels, dtype=torch.long)\n",
        "#         correct += (predicted == labels).sum().item()\n",
        "\n",
        "# accuracy = correct / len(test_dataset)\n",
        "# print(f'Test Accuracy: {accuracy * 100:.2f}%')\n"
      ]
    }
  ],
  "metadata": {
    "accelerator": "GPU",
    "colab": {
      "provenance": []
    },
    "kernelspec": {
      "display_name": "Python 3",
      "name": "python3"
    },
    "language_info": {
      "codemirror_mode": {
        "name": "ipython",
        "version": 3
      },
      "file_extension": ".py",
      "mimetype": "text/x-python",
      "name": "python",
      "nbconvert_exporter": "python",
      "pygments_lexer": "ipython3",
      "version": "3.9.18"
    }
  },
  "nbformat": 4,
  "nbformat_minor": 0
}